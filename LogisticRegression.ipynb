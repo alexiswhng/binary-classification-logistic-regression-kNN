{
 "cells": [
  {
   "cell_type": "code",
   "execution_count": 320,
   "metadata": {},
   "outputs": [],
   "source": [
    "#importing packages\n",
    "import numpy as np\n",
    "import matplotlib.pyplot as plt\n",
    "import pandas as pd"
   ]
  },
  {
   "cell_type": "code",
   "execution_count": 321,
   "metadata": {},
   "outputs": [
    {
     "name": "stdout",
     "output_type": "stream",
     "text": [
      ".. _iris_dataset:\n",
      "\n",
      "Iris plants dataset\n",
      "--------------------\n",
      "\n",
      "**Data Set Characteristics:**\n",
      "\n",
      "    :Number of Instances: 150 (50 in each of three classes)\n",
      "    :Number of Attributes: 4 numeric, predictive attributes and the class\n",
      "    :Attribute Information:\n",
      "        - sepal length in cm\n",
      "        - sepal width in cm\n",
      "        - petal length in cm\n",
      "        - petal width in cm\n",
      "        - class:\n",
      "                - Iris-Setosa\n",
      "                - Iris-Versicolour\n",
      "                - Iris-Virginica\n",
      "                \n",
      "    :Summary Statistics:\n",
      "\n",
      "    ============== ==== ==== ======= ===== ====================\n",
      "                    Min  Max   Mean    SD   Class Correlation\n",
      "    ============== ==== ==== ======= ===== ====================\n",
      "    sepal length:   4.3  7.9   5.84   0.83    0.7826\n",
      "    sepal width:    2.0  4.4   3.05   0.43   -0.4194\n",
      "    petal length:   1.0  6.9   3.76   1.76    0.9490  (high!)\n",
      "    petal width:    0.1  2.5   1.20   0.76    0.9565  (high!)\n",
      "    ============== ==== ==== ======= ===== ====================\n",
      "\n",
      "    :Missing Attribute Values: None\n",
      "    :Class Distribution: 33.3% for each of 3 classes.\n",
      "    :Creator: R.A. Fisher\n",
      "    :Donor: Michael Marshall (MARSHALL%PLU@io.arc.nasa.gov)\n",
      "    :Date: July, 1988\n",
      "\n",
      "The famous Iris database, first used by Sir R.A. Fisher. The dataset is taken\n",
      "from Fisher's paper. Note that it's the same as in R, but not as in the UCI\n",
      "Machine Learning Repository, which has two wrong data points.\n",
      "\n",
      "This is perhaps the best known database to be found in the\n",
      "pattern recognition literature.  Fisher's paper is a classic in the field and\n",
      "is referenced frequently to this day.  (See Duda & Hart, for example.)  The\n",
      "data set contains 3 classes of 50 instances each, where each class refers to a\n",
      "type of iris plant.  One class is linearly separable from the other 2; the\n",
      "latter are NOT linearly separable from each other.\n",
      "\n",
      ".. topic:: References\n",
      "\n",
      "   - Fisher, R.A. \"The use of multiple measurements in taxonomic problems\"\n",
      "     Annual Eugenics, 7, Part II, 179-188 (1936); also in \"Contributions to\n",
      "     Mathematical Statistics\" (John Wiley, NY, 1950).\n",
      "   - Duda, R.O., & Hart, P.E. (1973) Pattern Classification and Scene Analysis.\n",
      "     (Q327.D83) John Wiley & Sons.  ISBN 0-471-22361-1.  See page 218.\n",
      "   - Dasarathy, B.V. (1980) \"Nosing Around the Neighborhood: A New System\n",
      "     Structure and Classification Rule for Recognition in Partially Exposed\n",
      "     Environments\".  IEEE Transactions on Pattern Analysis and Machine\n",
      "     Intelligence, Vol. PAMI-2, No. 1, 67-71.\n",
      "   - Gates, G.W. (1972) \"The Reduced Nearest Neighbor Rule\".  IEEE Transactions\n",
      "     on Information Theory, May 1972, 431-433.\n",
      "   - See also: 1988 MLC Proceedings, 54-64.  Cheeseman et al\"s AUTOCLASS II\n",
      "     conceptual clustering system finds 3 classes in the data.\n",
      "   - Many, many more ...\n"
     ]
    }
   ],
   "source": [
    "#loading the data set\n",
    "from sklearn.datasets import load_iris\n",
    "iris = load_iris()\n",
    "print(iris.DESCR)\n",
    "X, t = load_iris(return_X_y=True)"
   ]
  },
  {
   "cell_type": "code",
   "execution_count": 322,
   "metadata": {},
   "outputs": [],
   "source": [
    "#splitting the data into the trainig and test sets\n",
    "from sklearn.model_selection import train_test_split\n",
    "X_train, X_test, t_train, t_test = train_test_split(X, t, test_size = 1/4, random_state = 3)"
   ]
  },
  {
   "cell_type": "code",
   "execution_count": 323,
   "metadata": {},
   "outputs": [
    {
     "name": "stdout",
     "output_type": "stream",
     "text": [
      "(112, 4)\n"
     ]
    }
   ],
   "source": [
    "print(X_train.shape)"
   ]
  },
  {
   "cell_type": "code",
   "execution_count": 324,
   "metadata": {},
   "outputs": [
    {
     "name": "stdout",
     "output_type": "stream",
     "text": [
      "(112, 2)\n"
     ]
    }
   ],
   "source": [
    "#use only last two features for prediction\n",
    "X_train = X_train[:,2:]\n",
    "X_test = X_test[:,2:]\n",
    "\n",
    "print(X_train.shape)"
   ]
  },
  {
   "cell_type": "code",
   "execution_count": null,
   "metadata": {},
   "outputs": [],
   "source": []
  },
  {
   "cell_type": "code",
   "execution_count": 325,
   "metadata": {},
   "outputs": [
    {
     "name": "stdout",
     "output_type": "stream",
     "text": [
      "[[  4   5   8  12  13  17  19  22  23  26  27  31  34  35  42  43  50  52\n",
      "   57  59  63  65  72  77  80  82  83  84  87  88  90 100 103 108 109]]\n",
      "[1, 35]\n"
     ]
    }
   ],
   "source": [
    "#separate classes\n",
    "#plot data for features 2 and 3\n",
    "#separate training data for different classes\n",
    "\n",
    "#class 0  \n",
    "i0 = np.asarray(np.nonzero(t_train==0)) #indexes where class is 0\n",
    "print(i0)\n",
    "[m,n] = i0.shape\n",
    "print([m,n])\n",
    "X_train_0 = np.zeros((n,2))\n",
    "t_train_0 = np.zeros(n)\n",
    "#print(t_train_0)\n",
    "#print(X_train_0)\n",
    "for i in range(n):\n",
    "    X_train_0[i,:] = X_train[i0[0,i],:] "
   ]
  },
  {
   "cell_type": "code",
   "execution_count": 326,
   "metadata": {},
   "outputs": [
    {
     "name": "stdout",
     "output_type": "stream",
     "text": [
      "[[  1   3   7   9  11  15  16  21  25  28  33  39  40  41  46  48  53  54\n",
      "   58  60  61  62  67  69  71  74  76  78  81  85  91  93  96  97  99 101\n",
      "  102 104]]\n",
      "[1, 38]\n"
     ]
    }
   ],
   "source": [
    "#class 1\n",
    "i1 = np.asarray(np.nonzero(t_train==1)) #indexes where class is 1\n",
    "print(i1)\n",
    "[m,n] = i1.shape\n",
    "print([m, n])\n",
    "X_train_1 = np.zeros((n,2))\n",
    "t_train_1 = np.ones(n)\n",
    "#print(t_train_1)\n",
    "for i in range(n):\n",
    "    X_train_1[i,:] = X_train[i1[0,i],:] \n",
    "#print(X_train_1)"
   ]
  },
  {
   "cell_type": "code",
   "execution_count": 327,
   "metadata": {},
   "outputs": [
    {
     "name": "stdout",
     "output_type": "stream",
     "text": [
      "[[  0   2   6  10  14  18  20  24  29  30  32  36  37  38  44  45  47  49\n",
      "   51  55  56  64  66  68  70  73  75  79  86  89  92  94  95  98 105 106\n",
      "  107 110 111]]\n"
     ]
    }
   ],
   "source": [
    "#class 2\n",
    "i2 = np.asarray(np.nonzero(t_train==2)) #indexes where class is 0\n",
    "print(i2)\n",
    "[m,n] = i2.shape\n",
    "#print(n)\n",
    "X_train_2 = np.zeros((n,2))\n",
    "t_train_2 = np.ones(n)\n",
    "t_train_2 += 1\n",
    "#print(t_train_2)\n",
    "for i in range(n):\n",
    "    X_train_2[i,:] = X_train[i2[0,i],:] \n",
    "#print(X_train_2)"
   ]
  },
  {
   "cell_type": "code",
   "execution_count": 328,
   "metadata": {},
   "outputs": [
    {
     "data": {
      "image/png": "[encoded data removed]",
      "text/plain": [
       "<Figure size 432x288 with 1 Axes>"
      ]
     },
     "metadata": {
      "needs_background": "light"
     },
     "output_type": "display_data"
    }
   ],
   "source": [
    "#plot classes\n",
    "plt.scatter(X_train_0[:,0], X_train_0[:,1], color = 'red')\n",
    "plt.scatter(X_train_1[:,0], X_train_1[:,1], color = 'blue')\n",
    "plt.scatter(X_train_2[:,0], X_train_2[:,1], color = 'green')\n",
    "plt.title('Iris flower data (training set)')\n",
    "plt.xlabel('petal length')\n",
    "plt.ylabel('petal width')\n",
    "plt.savefig('iris.png')\n",
    "plt.show()\n"
   ]
  },
  {
   "cell_type": "code",
   "execution_count": 329,
   "metadata": {},
   "outputs": [],
   "source": [
    "#convert to binary classification change 2 to 1, 1 to 0\n",
    "#tt_train and tt_test store the targets after the convertion\n",
    "tt_train = t_train.copy()\n",
    "tt_test = t_test.copy()\n",
    "M = len(X_test)\n",
    "N = len(X_train)\n",
    "for i in range(M):\n",
    "    if(t_test[i]==1):\n",
    "        tt_test[i] = 0\n",
    "    elif(t_test[i]==2):\n",
    "        tt_test[i] = 1\n",
    "    \n",
    "for i in range(N):\n",
    "    if(t_train[i]==1):\n",
    "        tt_train[i] = 0\n",
    "    elif(t_train[i]==2):\n",
    "        tt_train[i] = 1\n",
    "#print(t_train)\n",
    "#print(tt_train) "
   ]
  },
  {
   "cell_type": "code",
   "execution_count": null,
   "metadata": {},
   "outputs": [],
   "source": []
  }
 ],
 "metadata": {
  "kernelspec": {
   "display_name": "Python 3",
   "language": "python",
   "name": "python3"
  },
  "language_info": {
   "codemirror_mode": {
    "name": "ipython",
    "version": 3
   },
   "file_extension": ".py",
   "mimetype": "text/x-python",
   "name": "python",
   "nbconvert_exporter": "python",
   "pygments_lexer": "ipython3",
   "version": "3.8.3"
  }
 },
 "nbformat": 4,
 "nbformat_minor": 4
}
